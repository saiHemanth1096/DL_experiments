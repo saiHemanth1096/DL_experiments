{
  "nbformat": 4,
  "nbformat_minor": 0,
  "metadata": {
    "colab": {
      "provenance": [],
      "authorship_tag": "ABX9TyMCEz5Dz9V2hzuXh4a+9FeD",
      "include_colab_link": true
    },
    "kernelspec": {
      "name": "python3",
      "display_name": "Python 3"
    },
    "language_info": {
      "name": "python"
    }
  },
  "cells": [
    {
      "cell_type": "markdown",
      "metadata": {
        "id": "view-in-github",
        "colab_type": "text"
      },
      "source": [
        "<a href=\"https://colab.research.google.com/github/saiHemanth1096/DL_experiments/blob/main/DL_Exp_1.ipynb\" target=\"_parent\"><img src=\"https://colab.research.google.com/assets/colab-badge.svg\" alt=\"Open In Colab\"/></a>"
      ]
    },
    {
      "cell_type": "markdown",
      "source": [
        "Application to implement Perceptron"
      ],
      "metadata": {
        "id": "MiOgi-IA-h9E"
      }
    },
    {
      "cell_type": "markdown",
      "source": [
        "A Perceptron is a neural network unit that does certain computations to detect features or business intelligence in the input data. It is a function that maps its input “x,” which is multiplied by the learned weight coefficient, and generates an output value ”f(x)."
      ],
      "metadata": {
        "id": "-a41lPvs-3NN"
      }
    },
    {
      "cell_type": "markdown",
      "source": [
        "A multi-layered perceptron model can be used to solve complex non-linear problems. It works well with both small and large input data. It helps us to obtain quick predictions after the training. It helps to obtain the same accuracy ratio with large as well as small data."
      ],
      "metadata": {
        "id": "k2b1nL3R-3-g"
      }
    },
    {
      "cell_type": "code",
      "source": [
        "import numpy as np\n",
        "# Setting the random seed, feel free to change it and see different solutions.\n",
        "np.random.seed(42)\n",
        "\n",
        "def stepFunction(t):\n",
        "    if t >= 0:\n",
        "        return 1\n",
        "    return 0\n",
        "\n",
        "def prediction(X, W, b):\n",
        "    return stepFunction((np.matmul(X,W)+b)[0])\n",
        "\n",
        "# The function should receive as inputs the data X, the labels y,\n",
        "# the weights W (as an array), and the bias b,\n",
        "# update the weights and bias W, b, according to the perceptron algorithm,\n",
        "# and return W and b.\n",
        "def perceptronStep(X, y, W, b, learn_rate = 0.01):\n",
        "\n",
        "    for i in range(len(X)):\n",
        "        yhat = prediction(X[i], W, b)\n",
        "        if y[i]-yhat == 1:\n",
        "            W[0] += X[i][0]*learn_rate\n",
        "            W[1] += X[i][1]*learn_rate\n",
        "            b += learn_rate\n",
        "        elif y[i]-yhat == -1:\n",
        "            W[0] -= X[i][0]*learn_rate\n",
        "            W[1] -= X[i][1]*learn_rate\n",
        "            b -= learn_rate\n",
        "    return W, b\n",
        "\n",
        "# This function runs the perceptron algorithm repeatedly on the dataset,\n",
        "# and returns a few of the boundary lines obtained in the iterations,\n",
        "# for plotting purposes.\n",
        "# Feel free to play with the learning rate and the num_epochs,\n",
        "# and see your results plotted below.\n",
        "def trainPerceptronAlgorithm(X, y, learn_rate = 0.01, num_epochs = 25):\n",
        "    x_min, x_max = min(X.T[0]), max(X.T[0])\n",
        "    y_min, y_max = min(X.T[1]), max(X.T[1])\n",
        "    W = np.array(np.random.rand(2,1))\n",
        "    b = np.random.rand(1)[0] + x_max\n",
        "    # These are the solution lines that get plotted below.\n",
        "    boundary_lines = []\n",
        "    for i in range(num_epochs):\n",
        "        # In each epoch, we apply the perceptron step.\n",
        "        W, b = perceptronStep(X, y, W, b, learn_rate)\n",
        "        boundary_lines.append((-W[0]/W[1], -b/W[1]))\n",
        "    return boundary_lines\n",
        "X=np.array([[0.1,0.2],[0.6,0],[0.2,0.8],[0.1,0.9]])\n",
        "y=np.array([1,1,0,0])\n",
        "boundary_lines=trainPerceptronAlgorithm(X,y)\n",
        "print(boundary_lines)"
      ],
      "metadata": {
        "colab": {
          "base_uri": "https://localhost:8080/"
        },
        "id": "4fZZqFh7-6IS",
        "outputId": "6bbf114c-a4cb-4990-af37-c4e6e847a780"
      },
      "execution_count": 2,
      "outputs": [
        {
          "output_type": "stream",
          "name": "stdout",
          "text": [
            "[(array([-0.39791628]), array([-1.40513424])), (array([-0.40202287]), array([-1.40937469])), (array([-0.40628466]), array([-1.41377539])), (array([-0.4107106]), array([-1.41834559])), (array([-0.41531036]), array([-1.42309528])), (array([-0.42009439]), array([-1.42803524])), (array([-0.42507399]), array([-1.43317715])), (array([-0.4302614]), array([-1.43853365])), (array([-0.43566991]), array([-1.44411844])), (array([-0.44131396]), array([-1.44994646])), (array([-0.44720927]), array([-1.45603393])), (array([-0.45337302]), array([-1.46239858])), (array([-0.45982396]), array([-1.46905978])), (array([-0.46658263]), array([-1.47603876])), (array([-0.47367161]), array([-1.4833588])), (array([-0.48111572]), array([-1.49104554])), (array([-0.48894231]), array([-1.49912724])), (array([-0.49718164]), array([-1.50763514])), (array([-0.50586726]), array([-1.51660386])), (array([-0.51503643]), array([-1.5260719])), (array([-0.52473069]), array([-1.53608214])), (array([-0.53499647]), array([-1.54668253])), (array([-0.54588585]), array([-1.55792684])), (array([-0.55745742]), array([-1.56987559])), (array([-0.56977738]), array([-1.58259711]))]\n"
          ]
        }
      ]
    }
  ]
}